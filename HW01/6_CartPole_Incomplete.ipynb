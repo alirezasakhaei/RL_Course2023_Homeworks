{
  "cells": [
    {
      "cell_type": "markdown",
      "metadata": {
        "id": "view-in-github",
        "colab_type": "text"
      },
      "source": [
        "<a href=\"https://colab.research.google.com/github/alirezasakhaei/RL_Course2023_Homeworks/blob/main/HW01/6_CartPole_Incomplete.ipynb\" target=\"_parent\"><img src=\"https://colab.research.google.com/assets/colab-badge.svg\" alt=\"Open In Colab\"/></a>"
      ]
    },
    {
      "cell_type": "markdown",
      "metadata": {
        "id": "1ekcge5vHPpR"
      },
      "source": [
        "# Installations and Imports"
      ]
    },
    {
      "cell_type": "code",
      "execution_count": 1,
      "metadata": {
        "colab": {
          "base_uri": "https://localhost:8080/"
        },
        "id": "iJ6K6gUyFP8v",
        "outputId": "df143b70-1bcb-4709-8f4b-a9cf1aa69746"
      },
      "outputs": [
        {
          "output_type": "stream",
          "name": "stdout",
          "text": [
            "Get:1 https://cloud.r-project.org/bin/linux/ubuntu focal-cran40/ InRelease [3,622 B]\n",
            "Ign:2 https://developer.download.nvidia.com/compute/machine-learning/repos/ubuntu2004/x86_64  InRelease\n",
            "Get:3 https://developer.download.nvidia.com/compute/cuda/repos/ubuntu2004/x86_64  InRelease [1,581 B]\n",
            "Hit:4 https://developer.download.nvidia.com/compute/machine-learning/repos/ubuntu2004/x86_64  Release\n",
            "Hit:5 http://archive.ubuntu.com/ubuntu focal InRelease\n",
            "Get:6 https://developer.download.nvidia.com/compute/cuda/repos/ubuntu2004/x86_64  Packages [908 kB]\n",
            "Get:7 http://archive.ubuntu.com/ubuntu focal-updates InRelease [114 kB]\n",
            "Hit:8 http://ppa.launchpad.net/c2d4u.team/c2d4u4.0+/ubuntu focal InRelease\n",
            "Get:9 http://security.ubuntu.com/ubuntu focal-security InRelease [114 kB]\n",
            "Hit:11 http://ppa.launchpad.net/cran/libgit2/ubuntu focal InRelease\n",
            "Hit:12 http://ppa.launchpad.net/deadsnakes/ppa/ubuntu focal InRelease\n",
            "Get:13 http://archive.ubuntu.com/ubuntu focal-backports InRelease [108 kB]\n",
            "Hit:14 http://ppa.launchpad.net/graphics-drivers/ppa/ubuntu focal InRelease\n",
            "Get:15 http://archive.ubuntu.com/ubuntu focal-updates/main amd64 Packages [3,014 kB]\n",
            "Get:16 http://security.ubuntu.com/ubuntu focal-security/universe amd64 Packages [1,015 kB]\n",
            "Hit:17 http://ppa.launchpad.net/ubuntugis/ppa/ubuntu focal InRelease\n",
            "Get:18 http://archive.ubuntu.com/ubuntu focal-updates/universe amd64 Packages [1,310 kB]\n",
            "Get:19 http://security.ubuntu.com/ubuntu focal-security/main amd64 Packages [2,539 kB]\n",
            "Fetched 9,128 kB in 2s (3,858 kB/s)\n",
            "Reading package lists... Done\n",
            "Looking in indexes: https://pypi.org/simple, https://us-python.pkg.dev/colab-wheels/public/simple/\n",
            "Collecting imageio==2.4.0\n",
            "  Downloading imageio-2.4.0.tar.gz (3.3 MB)\n",
            "\u001b[2K     \u001b[90m━━━━━━━━━━━━━━━━━━━━━━━━━━━━━━━━━━━━━━━━\u001b[0m \u001b[32m3.3/3.3 MB\u001b[0m \u001b[31m32.9 MB/s\u001b[0m eta \u001b[36m0:00:00\u001b[0m\n",
            "\u001b[?25h  Preparing metadata (setup.py) ... \u001b[?25l\u001b[?25hdone\n",
            "Requirement already satisfied: numpy in /usr/local/lib/python3.9/dist-packages (from imageio==2.4.0) (1.22.4)\n",
            "Requirement already satisfied: pillow in /usr/local/lib/python3.9/dist-packages (from imageio==2.4.0) (8.4.0)\n",
            "Building wheels for collected packages: imageio\n",
            "  Building wheel for imageio (setup.py) ... \u001b[?25l\u001b[?25hdone\n",
            "  Created wheel for imageio: filename=imageio-2.4.0-py3-none-any.whl size=3303897 sha256=3df8108cac4625c4f38b13cc83d66baf270293ad69d33d9ebe8e98e20ea36970\n",
            "  Stored in directory: /root/.cache/pip/wheels/dc/af/71/39ce4d8e0a145428f10df71d8e6bee4fe66ab7967496c0a46a\n",
            "Successfully built imageio\n",
            "Installing collected packages: imageio\n",
            "  Attempting uninstall: imageio\n",
            "    Found existing installation: imageio 2.9.0\n",
            "    Uninstalling imageio-2.9.0:\n",
            "      Successfully uninstalled imageio-2.9.0\n",
            "\u001b[31mERROR: pip's dependency resolver does not currently take into account all the packages that are installed. This behaviour is the source of the following dependency conflicts.\n",
            "scikit-image 0.19.3 requires imageio>=2.4.1, but you have imageio 2.4.0 which is incompatible.\u001b[0m\u001b[31m\n",
            "\u001b[0mSuccessfully installed imageio-2.4.0\n",
            "Reading package lists... Done\n",
            "Building dependency tree       \n",
            "Reading state information... Done\n",
            "ffmpeg is already the newest version (7:4.2.7-0ubuntu0.1).\n",
            "The following NEW packages will be installed:\n",
            "  xvfb\n",
            "0 upgraded, 1 newly installed, 0 to remove and 23 not upgraded.\n",
            "Need to get 780 kB of archives.\n",
            "After this operation, 2,271 kB of additional disk space will be used.\n",
            "Get:1 http://archive.ubuntu.com/ubuntu focal-updates/universe amd64 xvfb amd64 2:1.20.13-1ubuntu1~20.04.6 [780 kB]\n",
            "Fetched 780 kB in 1s (1,433 kB/s)\n",
            "debconf: unable to initialize frontend: Dialog\n",
            "debconf: (No usable dialog-like program is installed, so the dialog based frontend cannot be used. at /usr/share/perl5/Debconf/FrontEnd/Dialog.pm line 76, <> line 1.)\n",
            "debconf: falling back to frontend: Readline\n",
            "debconf: unable to initialize frontend: Readline\n",
            "debconf: (This frontend requires a controlling tty.)\n",
            "debconf: falling back to frontend: Teletype\n",
            "dpkg-preconfigure: unable to re-open stdin: \n",
            "Selecting previously unselected package xvfb.\n",
            "(Reading database ... 128275 files and directories currently installed.)\n",
            "Preparing to unpack .../xvfb_2%3a1.20.13-1ubuntu1~20.04.6_amd64.deb ...\n",
            "Unpacking xvfb (2:1.20.13-1ubuntu1~20.04.6) ...\n",
            "Setting up xvfb (2:1.20.13-1ubuntu1~20.04.6) ...\n",
            "Processing triggers for man-db (2.9.1-1) ...\n",
            "Looking in indexes: https://pypi.org/simple, https://us-python.pkg.dev/colab-wheels/public/simple/\n",
            "Collecting gymnasium[classic_control]\n",
            "  Downloading gymnasium-0.27.1-py3-none-any.whl (883 kB)\n",
            "\u001b[2K     \u001b[90m━━━━━━━━━━━━━━━━━━━━━━━━━━━━━━━━━━━━━━\u001b[0m \u001b[32m883.7/883.7 KB\u001b[0m \u001b[31m18.9 MB/s\u001b[0m eta \u001b[36m0:00:00\u001b[0m\n",
            "\u001b[?25hCollecting jax-jumpy>=0.2.0\n",
            "  Downloading jax_jumpy-0.2.0-py3-none-any.whl (11 kB)\n",
            "Requirement already satisfied: importlib-metadata>=4.8.0 in /usr/local/lib/python3.9/dist-packages (from gymnasium[classic_control]) (6.0.0)\n",
            "Requirement already satisfied: typing-extensions>=4.3.0 in /usr/local/lib/python3.9/dist-packages (from gymnasium[classic_control]) (4.5.0)\n",
            "Collecting gymnasium-notices>=0.0.1\n",
            "  Downloading gymnasium_notices-0.0.1-py3-none-any.whl (2.8 kB)\n",
            "Requirement already satisfied: numpy>=1.21.0 in /usr/local/lib/python3.9/dist-packages (from gymnasium[classic_control]) (1.22.4)\n",
            "Requirement already satisfied: cloudpickle>=1.2.0 in /usr/local/lib/python3.9/dist-packages (from gymnasium[classic_control]) (2.2.1)\n",
            "Collecting pygame==2.1.3.dev8\n",
            "  Downloading pygame-2.1.3.dev8-cp39-cp39-manylinux_2_17_x86_64.manylinux2014_x86_64.whl (13.7 MB)\n",
            "\u001b[2K     \u001b[90m━━━━━━━━━━━━━━━━━━━━━━━━━━━━━━━━━━━━━━━\u001b[0m \u001b[32m13.7/13.7 MB\u001b[0m \u001b[31m114.4 MB/s\u001b[0m eta \u001b[36m0:00:00\u001b[0m\n",
            "\u001b[?25hRequirement already satisfied: zipp>=0.5 in /usr/local/lib/python3.9/dist-packages (from importlib-metadata>=4.8.0->gymnasium[classic_control]) (3.15.0)\n",
            "Installing collected packages: gymnasium-notices, pygame, jax-jumpy, gymnasium\n",
            "Successfully installed gymnasium-0.27.1 gymnasium-notices-0.0.1 jax-jumpy-0.2.0 pygame-2.1.3.dev8\n"
          ]
        }
      ],
      "source": [
        "!sudo apt-get update\n",
        "!pip install 'imageio==2.4.0'\n",
        "!sudo apt-get install -y xvfb ffmpeg\n",
        "!pip3 install gymnasium[classic_control]"
      ]
    },
    {
      "cell_type": "code",
      "execution_count": 2,
      "metadata": {
        "id": "lzUJnJrQEN1r"
      },
      "outputs": [],
      "source": [
        "import math\n",
        "import base64\n",
        "import random\n",
        "import imageio\n",
        "import IPython\n",
        "import matplotlib\n",
        "import gymnasium as gym\n",
        "from itertools import count\n",
        "import matplotlib.pyplot as plt\n",
        "from collections import namedtuple, deque\n",
        "import numpy as np\n",
        "import torch\n",
        "import torch.nn as nn\n",
        "import torch.optim as optim\n",
        "import torch.nn.functional as F\n",
        "from tqdm import tqdm \n",
        "DEVICE = torch.device(\"cuda\" if torch.cuda.is_available() else \"cpu\")"
      ]
    },
    {
      "cell_type": "markdown",
      "metadata": {
        "id": "csY30Op-HVgu"
      },
      "source": [
        "# Utility functions for rendering evironment"
      ]
    },
    {
      "cell_type": "code",
      "execution_count": 4,
      "metadata": {
        "id": "B_g_w4-VFqXz"
      },
      "outputs": [],
      "source": [
        "def embed_mp4(filename):\n",
        "  \n",
        "    video = open(filename,'rb').read()\n",
        "    b64 = base64.b64encode(video)\n",
        "    tag = '''\n",
        "    <video width=\"640\" height=\"480\" controls>\n",
        "    <source src=\"data:video/mp4;base64,{0}\" type=\"video/mp4\">\n",
        "    Your browser does not support the video tag.\n",
        "    </video>'''.format(b64.decode())\n",
        "    \n",
        "    return IPython.display.HTML(tag)"
      ]
    },
    {
      "cell_type": "code",
      "execution_count": 3,
      "metadata": {
        "id": "IH96rj7THfsS"
      },
      "outputs": [],
      "source": [
        "def create_policy_eval_video(env, policy, filename, num_episodes=1, fps=30):\n",
        "  \n",
        "    filename = filename + \".mp4\"\n",
        "    with imageio.get_writer(filename, fps=fps) as video:\n",
        "        for _ in range(num_episodes):\n",
        "            state, info = env.reset()\n",
        "            video.append_data(env.render())\n",
        "            while True:\n",
        "                state = torch.from_numpy(state).unsqueeze(0).to(DEVICE)\n",
        "                action = policy(state)\n",
        "                state, reward, terminated, truncated, _ = env.step(action.item())\n",
        "                video.append_data(env.render())\n",
        "                if terminated:\n",
        "                    break\n",
        "    return embed_mp4(filename)"
      ]
    },
    {
      "cell_type": "markdown",
      "metadata": {
        "id": "ozFEZ_bqH71W"
      },
      "source": [
        "# Replay Memory and Q-Network"
      ]
    },
    {
      "cell_type": "code",
      "execution_count": 5,
      "metadata": {
        "id": "84EJUO1JH7h4"
      },
      "outputs": [],
      "source": [
        "SARS = namedtuple('SARS', ('state', 'action', 'next_state', 'reward'))\n",
        "\n",
        "class ReplayMemory(object):\n",
        "\n",
        "    def __init__(self, capacity):\n",
        "        self.memory = deque([], maxlen=capacity)\n",
        "\n",
        "    def push(self, transition):\n",
        "        self.memory.append(transition)\n",
        "\n",
        "    def sample(self, batch_size):\n",
        "        return random.sample(self.memory, batch_size)\n",
        "\n",
        "    def __len__(self):\n",
        "        return len(self.memory)"
      ]
    },
    {
      "cell_type": "code",
      "execution_count": 6,
      "metadata": {
        "id": "WD_Av2C7IIZ4"
      },
      "outputs": [],
      "source": [
        "# Complete the Q-Network below. \n",
        "# The Q-Network takes a state as input and the output is a vector so that each element is the q-value for an action.\n",
        "from torch.nn import functional as F\n",
        "class DQN(nn.Module):\n",
        "\n",
        "    def __init__(self, n_observations, n_actions):\n",
        "        super(DQN, self).__init__()\n",
        "        # ==================================== Your Code (Begin) ==================================\n",
        "        self.lin0 = nn.Linear(n_observations, 128)\n",
        "        self.lin1 = nn.Linear(128, 128)\n",
        "        self.lin2 = nn.Linear(128, n_actions)\n",
        "        # ==================================== Your Code (End) ====================================\n",
        "\n",
        "    def forward(self, x):\n",
        "        # ==================================== Your Code (Begin) ==================================\n",
        "        x = F.relu(self.lin0(x))\n",
        "        x = F.relu(self.lin1(x))\n",
        "        x = self.lin2(x)\n",
        "        return x\n",
        "        # ==================================== Your Code (End) ===================================="
      ]
    },
    {
      "cell_type": "markdown",
      "metadata": {
        "id": "f_ZW4F6SQeMZ"
      },
      "source": [
        "# Policies"
      ]
    },
    {
      "cell_type": "markdown",
      "metadata": {
        "id": "XJ6SfSblT_6f"
      },
      "source": [
        "Now we define 2 policies. We use greedy policy for evaluation and e-greedy during training."
      ]
    },
    {
      "cell_type": "code",
      "execution_count": 7,
      "metadata": {
        "id": "fokLsyg5Qc41"
      },
      "outputs": [],
      "source": [
        "# This function takes in a state and returns the best action according to your q-network.\n",
        "# Don't forget \"torch.no_grad()\". We don't want gradient flowing through our network. \n",
        "# state shape: (1, state_size) -> output shape: (1, 1)  \n",
        "def greedy_policy(qnet, state):\n",
        "    # ==================================== Your Code (Begin) ==================================\n",
        "    if type(state) != type(torch.tensor([])):\n",
        "        state = torch.tensor(state)\n",
        "    state = state.to(DEVICE)\n",
        "    with torch.no_grad():\n",
        "        output = qnet(state)\n",
        "    \n",
        "    # if len(state.shape) > 1:\n",
        "    #     dim = 1\n",
        "    # else:\n",
        "    #     dim = 0\n",
        "    best = output.argmax().view(-1, 1)\n",
        "    return best\n",
        "    # ==================================== Your Code (End) ===================================="
      ]
    },
    {
      "cell_type": "code",
      "execution_count": 8,
      "metadata": {
        "id": "_iE-12xgRc2y"
      },
      "outputs": [],
      "source": [
        "# state shape: (1, state_size) -> output shape: (1, 1)\n",
        "# Don't forget \"torch.no_grad()\". We don't want gradient flowing through our network.\n",
        "def e_greedy_policy(qnet, state, current_timestep):\n",
        "    eps_threshold = EPS_END + (EPS_START - EPS_END) * math.exp(-1. * current_timestep / EPS_DECAY)\n",
        "    \n",
        "    # ==================================== Your Code (Begin) ====================================\n",
        "    # With probability \"eps_threshold\" choose a random action \n",
        "    # and with probability 1-\"eps_threshold\" choose the best action according to your Q-Network.\n",
        "    current_timestep += 1\n",
        "    rand = np.random.random()\n",
        "    best_action = greedy_policy(qnet, state)\n",
        "    if rand > eps_threshold:\n",
        "        return best_action\n",
        "    else:\n",
        "        return torch.tensor(env.action_space.sample(), dtype=torch.long, device=DEVICE).view(-1, 1)\n",
        "    # ==================================== Your Code (End) ===================================="
      ]
    },
    {
      "cell_type": "markdown",
      "metadata": {
        "id": "0PvG1MpOK9mX"
      },
      "source": [
        "# Initial setup"
      ]
    },
    {
      "cell_type": "code",
      "execution_count": 9,
      "metadata": {
        "colab": {
          "base_uri": "https://localhost:8080/",
          "height": 539
        },
        "id": "5Sc1a-6ZLAE1",
        "outputId": "c3fbedbf-f7ab-4a1d-e3d7-0a5cf7ad2739"
      },
      "outputs": [
        {
          "output_type": "stream",
          "name": "stderr",
          "text": [
            "WARNING:root:IMAGEIO FFMPEG_WRITER WARNING: input image is not divisible by macro_block_size=16, resizing from (400, 600) to (400, 608) to ensure video compatibility with most codecs and players. To prevent resizing, make your input image divisible by the macro_block_size or set the macro_block_size to None (risking incompatibility). You may also see a FFMPEG warning concerning speedloss due to data not being aligned.\n"
          ]
        },
        {
          "output_type": "execute_result",
          "data": {
            "text/plain": [
              "<IPython.core.display.HTML object>"
            ],
            "text/html": [
              "\n",
              "    <video width=\"640\" height=\"480\" controls>\n",
              "    <source src=\"data:video/mp4;base64,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\" type=\"video/mp4\">\n",
              "    Your browser does not support the video tag.\n",
              "    </video>"
            ]
          },
          "metadata": {},
          "execution_count": 9
        }
      ],
      "source": [
        "BATCH_SIZE = 128\n",
        "GAMMA = 0.99 \n",
        "EPS_START = 0.9\n",
        "EPS_END = 0.05\n",
        "EPS_DECAY = 1000\n",
        "TAU = 0.005\n",
        "LR = 1e-4\n",
        "\n",
        "device = torch.device(\"cuda\" if torch.cuda.is_available() else \"cpu\")\n",
        "env = gym.make(\"CartPole-v1\", render_mode='rgb_array')\n",
        "n_actions = env.action_space.n\n",
        "state, info = env.reset()\n",
        "n_observations = len(state)\n",
        "q_network = DQN(n_observations, n_actions).to(device)\n",
        "target_network = DQN(n_observations, n_actions).to(device)\n",
        "target_network.load_state_dict(q_network.state_dict())\n",
        "\n",
        "optimizer = optim.AdamW(q_network.parameters(), lr=LR)\n",
        "memory = ReplayMemory(10000)\n",
        "\n",
        "create_policy_eval_video(env, lambda s: greedy_policy(q_network, s)[0][0], \"random_agent\")"
      ]
    },
    {
      "cell_type": "markdown",
      "metadata": {
        "id": "yWq08ZENXx6h"
      },
      "source": [
        "# Training"
      ]
    },
    {
      "cell_type": "code",
      "source": [
        "def optimize_model():\n",
        "    if len(memory) < BATCH_SIZE:\n",
        "        return\n",
        "    transitions = memory.sample(BATCH_SIZE)\n",
        "    batch = SARS(*zip(*transitions))\n",
        "    non_final_mask = torch.tensor(tuple(map(lambda s: s is not None,\n",
        "                                           batch.next_state)), device=device, dtype=torch.bool)\n",
        "    non_final_next_states = torch.cat([s for s in batch.next_state\n",
        "                                                if s is not None])\n",
        "    state_batch = torch.cat(batch.state)\n",
        "    action_batch = torch.cat(batch.action)\n",
        "    reward_batch = torch.cat(batch.reward)\n",
        "\n",
        "\n",
        "    old_vals = q_network(state_batch).gather(1, action_batch)\n",
        "    next_state_values = torch.zeros(BATCH_SIZE, device=device)\n",
        "    with torch.no_grad():\n",
        "        next_state_values[non_final_mask] = target_network(non_final_next_states).max(1)[0]\n",
        "    new_vals = (next_state_values * GAMMA) + reward_batch\n",
        "\n",
        "    # optimization step\n",
        "    loss_fn = nn.SmoothL1Loss()\n",
        "    loss = loss_fn(old_vals, new_vals.unsqueeze(1))\n",
        "    optimizer.zero_grad()\n",
        "    loss.backward()\n",
        "    torch.nn.utils.clip_grad_value_(q_network.parameters(), 100)\n",
        "    optimizer.step()"
      ],
      "metadata": {
        "id": "WUa0vqHuxuHq"
      },
      "execution_count": 10,
      "outputs": []
    },
    {
      "cell_type": "code",
      "execution_count": 11,
      "metadata": {
        "colab": {
          "base_uri": "https://localhost:8080/",
          "height": 319
        },
        "id": "USGbCrKbFusn",
        "outputId": "3c240621-b7ad-458c-d7ee-7bfbe6202cfc"
      },
      "outputs": [
        {
          "output_type": "stream",
          "name": "stderr",
          "text": [
            "100%|██████████| 500/500 [03:19<00:00,  2.50it/s]"
          ]
        },
        {
          "output_type": "stream",
          "name": "stdout",
          "text": [
            "Complete\n"
          ]
        },
        {
          "output_type": "stream",
          "name": "stderr",
          "text": [
            "\n"
          ]
        },
        {
          "output_type": "execute_result",
          "data": {
            "text/plain": [
              "[<matplotlib.lines.Line2D at 0x7f16ca410370>]"
            ]
          },
          "metadata": {},
          "execution_count": 11
        },
        {
          "output_type": "display_data",
          "data": {
            "text/plain": [
              "<Figure size 432x288 with 1 Axes>"
            ],
            "image/png": "[encoded data removed]"
          },
          "metadata": {
            "needs_background": "light"
          }
        }
      ],
      "source": [
        "num_episodes = 500\n",
        "episode_returns = []\n",
        "episode_durations = []\n",
        "time_step = 0   \n",
        "for i_episode in tqdm(range(num_episodes)):\n",
        "    # ==================================== Your Code (Begin) ====================================\n",
        "    # 1. Start a new episode\n",
        "    episode_returns.append(0)\n",
        "    state, _ = env.reset()\n",
        "    state = torch.tensor(state, dtype=torch.float32, device=device).unsqueeze(0)\n",
        "    \n",
        "    i = 0\n",
        "    done = False\n",
        "    while not done:\n",
        "        \n",
        "        # 2. Run the environment for 1 step using e-greedy policy\n",
        "        action = e_greedy_policy(q_network, state, time_step)\n",
        "        time_step += 1\n",
        "        obv, reward, terminated, truncated, _ = env.step(action.item())\n",
        "        done = terminated or truncated\n",
        " \n",
        "        if terminated:\n",
        "            next_state = None\n",
        "        else:\n",
        "            next_state = torch.tensor(obv, dtype=torch.float32, device=device).unsqueeze(0)\n",
        "        reward = torch.tensor([reward], device=device)\n",
        "        # 3. Add the (state, action, next_state, reward) to replay memory\n",
        "        \n",
        "        memory.push(SARS(state, action, next_state, reward))\n",
        "        state = next_state\n",
        "        # 4. Optimize your q_network for 1 iteration\n",
        "        # optimize_model(q_network, target_network, memory)\n",
        "        optimize_model()\n",
        "\n",
        "        # 5. Soft update the weights of target_network\n",
        "        #       θ′ ← τ θ + (1 −τ )θ′\n",
        "        #       θ   is q_network weights\n",
        "        #       θ′  is target_network weights \n",
        "        theta_prime = target_network.state_dict()\n",
        "        theta = q_network.state_dict()\n",
        "        for key in theta:\n",
        "            theta_prime[key] = TAU*theta[key] + (1-TAU)*theta_prime[key]\n",
        "        target_network.load_state_dict(theta_prime)           \n",
        "        # 6. Keep track of the total reward for each episode to plot later\n",
        "        episode_returns[i_episode] += (GAMMA**i) * reward.item()\n",
        "        i += 1\n",
        "\n",
        "        # Loop Break\n",
        "        if done:\n",
        "            episode_durations.append(i)\n",
        "\n",
        "    # ==================================== Your Code (End) ====================================  \n",
        "\n",
        "print('Complete')\n",
        "plt.plot(range(1, num_episodes+1), episode_durations)"
      ]
    },
    {
      "cell_type": "code",
      "source": [],
      "metadata": {
        "id": "veYQgUHG7teU"
      },
      "execution_count": null,
      "outputs": []
    },
    {
      "cell_type": "code",
      "execution_count": null,
      "metadata": {
        "colab": {
          "base_uri": "https://localhost:8080/"
        },
        "id": "1s50clnmF_az",
        "outputId": "652f9eab-e9d1-4296-d0fd-d43679f9cdd5"
      },
      "outputs": [
        {
          "metadata": {
            "tags": null
          },
          "name": "stderr",
          "output_type": "stream",
          "text": [
            "WARNING:root:IMAGEIO FFMPEG_WRITER WARNING: input image is not divisible by macro_block_size=16, resizing from (400, 600) to (400, 608) to ensure video compatibility with most codecs and players. To prevent resizing, make your input image divisible by the macro_block_size or set the macro_block_size to None (risking incompatibility). You may also see a FFMPEG warning concerning speedloss due to data not being aligned.\n"
          ]
        }
      ],
      "source": [
        "# Render trained model\n",
        "\n",
        "create_policy_eval_video(env, lambda s: greedy_policy(q_network, s)[0][0], \"trained_agent\")"
      ]
    }
  ],
  "metadata": {
    "colab": {
      "provenance": [],
      "include_colab_link": true
    },
    "gpuClass": "standard",
    "kernelspec": {
      "display_name": "Python 3",
      "name": "python3"
    },
    "language_info": {
      "name": "python"
    }
  },
  "nbformat": 4,
  "nbformat_minor": 0
}