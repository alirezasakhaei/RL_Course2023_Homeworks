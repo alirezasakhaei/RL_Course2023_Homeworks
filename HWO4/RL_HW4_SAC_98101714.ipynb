{
  "cells": [
    {
      "cell_type": "markdown",
      "metadata": {
        "id": "view-in-github",
        "colab_type": "text"
      },
      "source": [
        "<a href=\"https://colab.research.google.com/github/alirezasakhaei/RL_Course2023_Homeworks/blob/main/HWO4/RL_HW4_SAC_98101714.ipynb\" target=\"_parent\"><img src=\"https://colab.research.google.com/assets/colab-badge.svg\" alt=\"Open In Colab\"/></a>"
      ]
    },
    {
      "cell_type": "markdown",
      "metadata": {
        "id": "r9HxtwHbk6Pc"
      },
      "source": [
        "# Soft Actor Critic Agent(115 Points)\n",
        "\n",
        "> Name: Alireza Sakhaeirad\n",
        "\n",
        "> SID: 98101714\n",
        "\n"
      ]
    },
    {
      "cell_type": "markdown",
      "metadata": {
        "id": "1PJUxRV4MIod"
      },
      "source": [
        "In this notebook, we are going to implement **Soft Actor Critic (SAC)**\n",
        "on the **CartPole** environment in online and offline settings. In this framework, the actor aims to maximize the expected reward while also maximizing **entropy**. That is, to succeed at the task while acting as randomly as possible. This method seeks a high entropy in the policy to explicitly encourage exploration. For the offline setting, you are going to make SAC conservative using CQL method.\n",
        "\n",
        "* SAC is an off-policy algorithm.\n",
        "* The version of SAC implemented here can only be used for environments with discrete action spaces.\n",
        "* An alternate version of SAC, which slightly changes the policy update  rule, can be implemented to handle continuous action spaces.\n",
        "* Complete the **TODO** parts in the code accordingly.\n",
        "* Remember to answer the conceptual questions.\n",
        "\n",
        "\n"
      ]
    },
    {
      "cell_type": "code",
      "execution_count": null,
      "metadata": {
        "id": "UC-BecdPmdb3"
      },
      "outputs": [],
      "source": [
        "import torch\n",
        "import torch.nn as nn\n",
        "import torch.nn.functional as F\n",
        "from torch.distributions import Normal\n",
        "import torch.optim as optim\n",
        "import numpy as np\n",
        "import random\n",
        "import gym\n",
        "import matplotlib.pyplot as plt\n",
        "from tqdm import tqdm\n",
        "\n",
        "seed = 42\n",
        "random.seed(seed)\n",
        "np.random.seed(seed)\n",
        "torch.manual_seed(seed)\n",
        "torch.cuda.manual_seed(seed)\n",
        "torch.backends.cudnn.deterministic = True"
      ]
    },
    {
      "cell_type": "code",
      "source": [
        "import warnings\n",
        "warnings.filterwarnings(\"ignore\")\n"
      ],
      "metadata": {
        "id": "dEhNtxgufe8l"
      },
      "execution_count": null,
      "outputs": []
    },
    {
      "cell_type": "markdown",
      "metadata": {
        "id": "_whWTLZejkm3"
      },
      "source": [
        "## Network Structure (8 points)\n",
        "For constructing SAC agent, we use objects of feedforward neural networks with 3 layers. Complete the code below."
      ]
    },
    {
      "cell_type": "code",
      "execution_count": null,
      "metadata": {
        "id": "4pxOyt0xh4nN",
        "colab": {
          "base_uri": "https://localhost:8080/"
        },
        "outputId": "1e07cbcd-741b-43e5-bb2c-77bcf569bc89"
      },
      "outputs": [
        {
          "output_type": "stream",
          "name": "stderr",
          "text": [
            "/usr/local/lib/python3.10/dist-packages/ipykernel/ipkernel.py:283: DeprecationWarning: `should_run_async` will not call `transform_cell` automatically in the future. Please pass the result to `transformed_cell` argument and any exception that happen during thetransform in `preprocessing_exc_tuple` in IPython 7.17 and above.\n",
            "  and should_run_async(code)\n"
          ]
        }
      ],
      "source": [
        "class Network(torch.nn.Module):\n",
        "\n",
        "    def __init__(self, input_dimension, output_dimension, output_activation=torch.nn.Identity()):\n",
        "        super(Network, self).__init__()\n",
        "        ##########################################################\n",
        "        # TODO (4 points):\n",
        "        # Define your network layers.\n",
        "        ##########################################################\n",
        "        hidden_layer_units_1 = 16\n",
        "        hidden_layer_units_2 = 64\n",
        "\n",
        "        self.hidden_layer_1 = nn.Linear(input_dimension, hidden_layer_units_1)\n",
        "        self.hidden_layer_2 = nn.Linear(hidden_layer_units_1, hidden_layer_units_2)\n",
        "        self.output_layer = nn.Linear(hidden_layer_units_2, output_dimension)\n",
        "        self.output_layer_activation = output_activation\n",
        "        self.relu = F.relu\n",
        "        ##########################################################\n",
        "\n",
        "    def forward(self, inpt):\n",
        "        output = None\n",
        "        ##########################################################\n",
        "        # TODO (4 points):\n",
        "        # Use relu and the output activation functions to calculate the output\n",
        "        ##########################################################\n",
        "\n",
        "        ####\n",
        "        x = self.hidden_layer_1(inpt)\n",
        "        x = self.relu(x)\n",
        "        ####\n",
        "        x = self.hidden_layer_2(x)\n",
        "        x = self.relu(x)\n",
        "        ####\n",
        "        x = self.output_layer(x)\n",
        "        output = self.output_layer_activation(x)\n",
        "        return output\n",
        "        ##########################################################"
      ]
    },
    {
      "cell_type": "markdown",
      "metadata": {
        "id": "DToSGdmDka1u"
      },
      "source": [
        "## Replay Buffer\n",
        "\n",
        "A SAC agent needs a replay buffer, from which previously visited states can be sampled. You can use the implemented code below. You are going to use the replay buffer of a pretrained online agent to train the offline model."
      ]
    },
    {
      "cell_type": "code",
      "execution_count": null,
      "metadata": {
        "id": "UC7jTwJXh8wl"
      },
      "outputs": [],
      "source": [
        "import numpy as np\n",
        "\n",
        "\n",
        "class ReplayBuffer:\n",
        "\n",
        "    def __init__(self, environment, capacity=500000):\n",
        "        transition_type_str = self.get_transition_type_str(environment)\n",
        "        self.buffer = np.zeros(capacity, dtype=transition_type_str)\n",
        "        self.weights = np.zeros(capacity)\n",
        "        self.head_idx = 0\n",
        "        self.count = 0\n",
        "        self.capacity = capacity\n",
        "        self.max_weight = 10**-2\n",
        "        self.delta = 10**-4\n",
        "        self.indices = None\n",
        "        self.mirror_index = np.random.permutation(range(self.buffer.shape[0]))\n",
        "\n",
        "    def get_transition_type_str(self, environment):\n",
        "        state_dim = environment.observation_space.shape[0]\n",
        "        state_dim_str = '' if state_dim == () else str(state_dim)\n",
        "        state_type_str = environment.observation_space.sample().dtype.name\n",
        "        action_dim = environment.action_space.shape\n",
        "        action_dim_str = '' if action_dim == () else str(action_dim)\n",
        "        action_type_str = environment.action_space.sample().__class__.__name__\n",
        "\n",
        "        # type str for transition = 'state type, action type, reward type, state type'\n",
        "        transition_type_str = '{0}{1}, {2}{3}, float32, {0}{1}, bool'.format(state_dim_str, state_type_str,\n",
        "                                                                             action_dim_str, action_type_str)\n",
        "\n",
        "        return transition_type_str\n",
        "\n",
        "    def add_transition(self, transition):\n",
        "        self.buffer[self.head_idx] = transition\n",
        "        self.weights[self.head_idx] = self.max_weight\n",
        "\n",
        "        self.head_idx = (self.head_idx + 1) % self.capacity\n",
        "        self.count = min(self.count + 1, self.capacity)\n",
        "\n",
        "    def sample_minibatch(self, size=100, batch_deterministic_start=None):\n",
        "        set_weights = self.weights[:self.count] + self.delta\n",
        "        probabilities = set_weights / sum(set_weights)\n",
        "        if batch_deterministic_start is None:\n",
        "            self.indices = np.random.choice(range(self.count), size, p=probabilities, replace=False)\n",
        "        else:\n",
        "            self.indices = self.mirror_index[batch_deterministic_start:batch_deterministic_start+size]\n",
        "        return self.buffer[self.indices]\n",
        "\n",
        "    def update_weights(self, prediction_errors):\n",
        "        max_error = max(prediction_errors)\n",
        "        self.max_weight = max(self.max_weight, max_error)\n",
        "        self.weights[self.indices] = prediction_errors\n",
        "\n",
        "    def get_size(self):\n",
        "        return self.count"
      ]
    },
    {
      "cell_type": "markdown",
      "metadata": {
        "id": "fB2m89BjlNXY"
      },
      "source": [
        "## Questions (18 points)\n",
        "\n",
        "❓ We know that standard RL maximizes the expected sum of rewards. What is the objective function of SAC algorithm? Compare it to the standard RL loss.\n",
        "\n",
        "\n",
        "❓ Write down the actor cost function.\n",
        "\n",
        "❓ Write down the critic cost function.\n",
        "\n",
        "\n",
        "❓ Elaborate on the reason why most implementations of SAC use two critics (one local and one target).\n",
        "\n",
        "❓ What is the difference between training samples in offline and online settings?\n",
        "\n",
        "\n",
        "❓ How does adding CQL on top of SAC change the objective function?\n"
      ]
    },
    {
      "cell_type": "markdown",
      "source": [
        "**I answered the questions in the pdf file, along with the theory questions**"
      ],
      "metadata": {
        "id": "G6La0Qc3NStw"
      }
    },
    {
      "cell_type": "markdown",
      "metadata": {
        "id": "5wOrt_EmfFFD"
      },
      "source": [
        "## SAC Agent (50 points)"
      ]
    },
    {
      "cell_type": "markdown",
      "metadata": {
        "id": "ScEk94Ubb01W"
      },
      "source": [
        "Now complete the following class. You can use the auxiliary methods provided in the class."
      ]
    },
    {
      "cell_type": "markdown",
      "metadata": {
        "id": "fgTQ5huWeoSs"
      },
      "source": [
        "<p style=\"color:yellow;\">This implemenation is based on the paper \"SOFT ACTOR-CRITIC FOR DISCRETE ACTION SETTINGS (Christodoulou P,  2019)\" where slight changes to use SAC in discrete setting was introduced.</p>"
      ]
    },
    {
      "cell_type": "code",
      "execution_count": null,
      "metadata": {
        "id": "A8bEgUc2hmet"
      },
      "outputs": [],
      "source": [
        "ALPHA_INITIAL = 1.\n",
        "REPLAY_BUFFER_BATCH_SIZE = 100\n",
        "DISCOUNT_RATE = 0.99\n",
        "LEARNING_RATE = 10 ** -4\n",
        "SOFT_UPDATE_INTERPOLATION_FACTOR = 0.01\n",
        "TRADEOFF_FACTOR = 5 # trade-off factor in the CQL\n",
        "DEVICE = 'cuda' if torch.cuda.is_available() else 'cpu'\n",
        "\n",
        "class SACAgent:\n",
        "\n",
        "    def __init__(self, environment, replay_buffer=None, use_cql=False, offline=False):\n",
        "\n",
        "        #assert use_cql and not offline, 'Please activate the offline flag for CQL.'\n",
        "        #assert offline and replay_buffer is None, 'Please pass a replay buffer to the offline method.'\n",
        "\n",
        "        self.environment = environment\n",
        "        self.state_dim = self.environment.observation_space.shape[0]\n",
        "        self.action_dim = self.environment.action_space.n\n",
        "\n",
        "        self.offline = offline\n",
        "        self.replay_buffer = ReplayBuffer(self.environment) if replay_buffer is None else replay_buffer\n",
        "        self.use_cql = use_cql\n",
        "\n",
        "        self.DEVICE = 'cuda' if torch.cuda.is_available() else 'cpu'\n",
        "        self.LEARNING_RATE = 10 ** -4\n",
        "        self.DISCOUNT_RATE = 0.99\n",
        "        ##########################################################\n",
        "        # TODO (6 points):\n",
        "        # Define critics usig your implemented feed forward netwrok.\n",
        "        ##########################################################\n",
        "\n",
        "        # Defining Networks\n",
        "        self.critic_local = Network(self.state_dim, self.action_dim)\n",
        "        self.critic_local2 = Network(self.state_dim, self.action_dim)\n",
        "        self.critic_target = Network(self.state_dim, self.action_dim)\n",
        "        self.critic_target2 = Network(self.state_dim, self.action_dim)\n",
        "\n",
        "        # Defining Optimizers\n",
        "        self.critic_optimiser = optim.Adam(self.critic_local.parameters(), lr=self.LEARNING_RATE)\n",
        "        self.critic_optimiser2 = optim.Adam(self.critic_local2.parameters(), lr=self.LEARNING_RATE)\n",
        "\n",
        "        ##########################################################\n",
        "\n",
        "        self.soft_update_target_networks(tau=1.)\n",
        "        self.target_entropy = 0.98 * -np.log(1 / self.environment.action_space.n)\n",
        "        self.log_alpha = torch.tensor(np.log(ALPHA_INITIAL), requires_grad=True)\n",
        "        self.alpha = self.log_alpha\n",
        "        self.alpha_optimiser = torch.optim.Adam([self.log_alpha], lr=LEARNING_RATE)\n",
        "\n",
        "        ##########################################################\n",
        "        # TODO (2 points):\n",
        "        # Define the actor using your implemented feed forward netwrok.\n",
        "        # Define the actor optimizer using torch.Adam.\n",
        "        ##########################################################\n",
        "        self.actor_local = Network(self.state_dim, self.action_dim, torch.nn.Softmax(dim=1))\n",
        "        self.actor_optimiser  = optim.Adam(self.actor_local.parameters(), lr=self.LEARNING_RATE)\n",
        "\n",
        "\n",
        "        # Sending all networks to GPU\n",
        "        def dev(net):\n",
        "            return net.to(self.DEVICE)\n",
        "        self.networks = [self.critic_local,\n",
        "                         self.critic_local2,\n",
        "                         self.critic_target,\n",
        "                         self.critic_target2,\n",
        "                         self.actor_local]\n",
        "        for net in self.networks:\n",
        "            net = dev(net)\n",
        "\n",
        "        self.optimizers = [self.critic_optimiser,\n",
        "                           self.critic_optimiser2,\n",
        "                           self.actor_optimiser,\n",
        "                           self.alpha_optimiser]\n",
        "        ##########################################################\n",
        "\n",
        "\n",
        "    def get_next_action(self, state, evaluation_episode=False):\n",
        "        if evaluation_episode:\n",
        "            discrete_action = self.get_action_deterministically(state)\n",
        "        else:\n",
        "            discrete_action = self.get_action_nondeterministically(state)\n",
        "        return discrete_action\n",
        "\n",
        "    def get_action_nondeterministically(self, state):\n",
        "        action_probabilities = self.get_action_probabilities(state)\n",
        "        discrete_action = np.random.choice(range(self.action_dim), p=action_probabilities)\n",
        "        return discrete_action\n",
        "\n",
        "    def get_action_deterministically(self, state):\n",
        "        action_probabilities = self.get_action_probabilities(state)\n",
        "        discrete_action = np.argmax(action_probabilities)\n",
        "        return discrete_action\n",
        "\n",
        "    # Added method\n",
        "    def calc_soft_v(self, Q_hat_min, next_states_tensor):\n",
        "        action_prob, log_action_prob = self.get_action_info(next_states_tensor)\n",
        "        temp = Q_hat_min - self.alpha * log_action_prob\n",
        "        temp = action_prob * temp\n",
        "        soft_v = torch.sum(temp, dim=1)\n",
        "        return soft_v\n",
        "\n",
        "    # Added method\n",
        "    def get_Q_min(self, states_tensor, is_local = True):\n",
        "        with torch.no_grad():\n",
        "            if is_local:\n",
        "                Q_local_1 = self.critic_local(states_tensor)\n",
        "                Q_local_2 = self.critic_local2(states_tensor)\n",
        "                Q_min = torch.min(Q_local_1, Q_local_2)\n",
        "            else:\n",
        "                Q_local_1 = self.critic_target(states_tensor)\n",
        "                Q_local_2 = self.critic_target2(states_tensor)\n",
        "                Q_min = torch.min(Q_local_1, Q_local_2)\n",
        "        return Q_min\n",
        "\n",
        "    def critic_loss(self, states_tensor, actions_tensor, rewards_tensor,\n",
        "                    next_states_tensor, done_tensor):\n",
        "        ##########################################################\n",
        "        # TODO (12 points):\n",
        "        # You are going to calculate critic losses in this method.\n",
        "        # Also you should implement the CQL loss if the corresponding\n",
        "        # flag is set.\n",
        "        ##########################################################\n",
        "        loss_fn = nn.MSELoss()\n",
        "\n",
        "        # Pass the states throught critic network to calculate Q_theta\n",
        "        Q_theta_local_1 = self.critic_local(states_tensor)\n",
        "        len_output = Q_theta_local_1.size(0)\n",
        "        Q_theta_local_1 = Q_theta_local_1[torch.arange(len_output), actions_tensor]\n",
        "\n",
        "        Q_theta_local_2 = self.critic_local2(states_tensor)\n",
        "        len_output = Q_theta_local_1.size(0)\n",
        "        Q_theta_local_2 = Q_theta_local_2[torch.arange(len_output), actions_tensor]\n",
        "\n",
        "        # Compute the target values\n",
        "        with torch.no_grad():\n",
        "\n",
        "\n",
        "            # Getting Q values\n",
        "            Q_hat_min = self.get_Q_min(next_states_tensor, is_local=False)\n",
        "\n",
        "            # Soft-maxing Q values to get V\n",
        "            soft_V = self.calc_soft_v(Q_hat_min, next_states_tensor)\n",
        "\n",
        "            # Target values\n",
        "            Q_target = rewards_tensor + (self.DISCOUNT_RATE * (torch.logical_not(done_tensor))*soft_V)\n",
        "\n",
        "        critic_loss = loss_fn(Q_theta_local_1, Q_target)\n",
        "        critic2_loss = loss_fn(Q_theta_local_2, Q_target)\n",
        "\n",
        "        return critic_loss, critic2_loss\n",
        "        ##########################################################\n",
        "\n",
        "    def actor_loss(self, states_tensor):\n",
        "        ##########################################################\n",
        "        # TODO (8 points):\n",
        "        # Now implement the actor loss.\n",
        "        ##########################################################\n",
        "\n",
        "        # Getting action probabilities\n",
        "        action_prob, log_action_prob = self.get_action_info(states_tensor)\n",
        "\n",
        "        # To calculate actor loss, first we query the critic networks\n",
        "        min_Q_critic = self.get_Q_min(states_tensor, is_local=True)\n",
        "\n",
        "        # Now we calculate the loss\n",
        "        actor_loss = torch.mean(torch.sum(action_prob*(self.alpha*log_action_prob-min_Q_critic)))\n",
        "\n",
        "        return actor_loss, log_action_prob\n",
        "        ##########################################################\n",
        "\n",
        "\n",
        "    def train_on_transition(self, transition):\n",
        "        self.train_networks(transition)\n",
        "\n",
        "    def train_networks(self, transition=None, batch_deterministic_start=None):\n",
        "        ##########################################################\n",
        "        # TODO (6 points):\n",
        "        # Set all the gradients stored in the optimizers to zero.\n",
        "        # Add the new transition to the replay buffer for online case.\n",
        "        # self.actor_optimiser.zero_grad()\n",
        "        # self.critic_optimiser.zero_grad()\n",
        "        # self.critic_optimiser2.zero_grad()\n",
        "        # self.alpha_optimiser.zero_grad()\n",
        "        for opt in self.optimizers:\n",
        "            opt.zero_grad()\n",
        "\n",
        "        # Only for online mode\n",
        "        if not self.offline:\n",
        "            self.replay_buffer.add_transition(transition)\n",
        "        ##########################################################\n",
        "\n",
        "        if self.replay_buffer.get_size() >= REPLAY_BUFFER_BATCH_SIZE:\n",
        "            minibatch = self.replay_buffer.sample_minibatch(REPLAY_BUFFER_BATCH_SIZE,\n",
        "                                                            batch_deterministic_start=batch_deterministic_start)\n",
        "            minibatch_separated = list(map(list, zip(*minibatch)))\n",
        "\n",
        "            states_tensor = torch.tensor(np.array(minibatch_separated[0])).to(DEVICE)\n",
        "            actions_tensor = torch.tensor(np.array(minibatch_separated[1])).to(DEVICE)\n",
        "            rewards_tensor = torch.tensor(np.array(minibatch_separated[2])).float().to(DEVICE)\n",
        "            next_states_tensor = torch.tensor(np.array(minibatch_separated[3])).to(DEVICE)\n",
        "            done_tensor = torch.tensor(np.array(minibatch_separated[4])).to(DEVICE)\n",
        "\n",
        "            ##########################################################\n",
        "            # TODO (16 points):\n",
        "            # Here, you should compute the gradients based on this loss, i.e. the gradients\n",
        "            # of the loss with respect to the Q-network parameters.\n",
        "            # Given a minibatch of 100 transitions from replay buffer,\n",
        "            # compute the critic loss and perform the backpropagation,\n",
        "            # then compute the actor loss and backpropagate the gradient on it.\n",
        "            # You also need to update \\alpha.\n",
        "            ##########################################################\n",
        "\n",
        "            def net_update(loss, opt):\n",
        "                loss.backward()\n",
        "                opt.step()\n",
        "\n",
        "            # Critic Update\n",
        "            critic_loss, critic2_loss = self.critic_loss(states_tensor, actions_tensor, rewards_tensor,\n",
        "                    next_states_tensor, done_tensor)\n",
        "            net_update(critic_loss, self.critic_optimiser)\n",
        "            net_update(critic2_loss, self.critic_optimiser2)\n",
        "\n",
        "            # Actor Update\n",
        "            actor_loss, log_action_prob = self.actor_loss(states_tensor)\n",
        "            net_update(actor_loss, self.actor_optimiser)\n",
        "\n",
        "            # Alpha Update\n",
        "            alpha_loss = self.temperature_loss(log_action_prob)\n",
        "            net_update(alpha_loss, self.alpha_optimiser)\n",
        "            ##########################################################\n",
        "\n",
        "            self.soft_update_target_networks()\n",
        "\n",
        "    def temperature_loss(self, log_action_probabilities):\n",
        "        alpha_loss = -(self.log_alpha * (log_action_probabilities + self.target_entropy).detach()).mean()\n",
        "        return alpha_loss\n",
        "\n",
        "    def get_action_info(self, states_tensor):\n",
        "        action_probabilities = self.actor_local.forward(states_tensor)\n",
        "        z = action_probabilities == 0.0\n",
        "        z = z.float() * 1e-8\n",
        "        log_action_probabilities = torch.log(action_probabilities + z)\n",
        "        return action_probabilities, log_action_probabilities\n",
        "\n",
        "    def get_action_probabilities(self, state):\n",
        "        state_tensor = torch.tensor(state, dtype=torch.float32).unsqueeze(0).to(DEVICE)\n",
        "        action_probabilities = self.actor_local.forward(state_tensor)\n",
        "        return action_probabilities.squeeze(0).detach().cpu().numpy()\n",
        "\n",
        "    def soft_update_target_networks(self, tau=SOFT_UPDATE_INTERPOLATION_FACTOR):\n",
        "        self.soft_update(self.critic_target, self.critic_local, tau)\n",
        "        self.soft_update(self.critic_target2, self.critic_local2, tau)\n",
        "\n",
        "    def soft_update(self, target_model, origin_model, tau):\n",
        "        for target_param, local_param in zip(target_model.parameters(), origin_model.parameters()):\n",
        "            target_param.data.copy_(tau * local_param.data + (1 - tau) * target_param.data)\n",
        "\n",
        "    def predict_q_values(self, state):\n",
        "        q_values = self.critic_local(state)\n",
        "        q_values2 = self.critic_local2(state)\n",
        "        return torch.min(q_values, q_values2)"
      ]
    },
    {
      "cell_type": "markdown",
      "metadata": {
        "id": "X7Tx4pS_kdo-"
      },
      "source": [
        "## Online SAC training loop (10 points)"
      ]
    },
    {
      "cell_type": "markdown",
      "metadata": {
        "id": "jUm9_qfAlvf_"
      },
      "source": [
        "Now evaluate your model in CartPole environment in the online setting. After each 4 episodes, you should evaluate your model on a separate test environment. Run your model 4 times separately and plot the mean and deviation of the evaluation curves.\n",
        "\n",
        "**NOTE:** Since you are going to use the replay buffer of this agent as the offline dataset, you may want to save it for later use."
      ]
    },
    {
      "cell_type": "code",
      "source": [
        "def plot(REWARDS):\n",
        "    mean_vals = np.mean(REWARDS, axis=0)\n",
        "    std_vals = np.std(REWARDS, axis=0)\n",
        "    xrange = np.arange(len(REWARDS[0]))*4\n",
        "    plt.errorbar(xrange, mean_vals, yerr=std_vals, fmt='o', capsize=3, c='black')\n",
        "    plt.grid(True)\n",
        "    plt.xlabel('episode')\n",
        "    plt.ylabel('reward')\n",
        "    plt.show()\n"
      ],
      "metadata": {
        "id": "eTDLt5lmRubQ"
      },
      "execution_count": null,
      "outputs": []
    },
    {
      "cell_type": "code",
      "source": [
        "TRAINING_EVALUATION_RATIO = 4\n",
        "EPISODES_PER_RUN = 500\n",
        "STEPS_PER_EPISODE = 200\n",
        "env = gym.make(\"CartPole-v1\")\n",
        "\n",
        "##########################################################\n",
        "# TODO (10 points):\n",
        "# Implement the training loop for the online SAC.\n",
        "# 1) You need to initialize an agent with the\n",
        "#    `replay_buffer` set to None. Also, leave the\n",
        "#    `use_cql` and `offline` flags to remain False.\n",
        "# 2) After each epoch, run `EPISODES_PER_RUN` validation\n",
        "#    episodes and plot the mean return over these\n",
        "#    episodes in the end.\n",
        "# 3) Plot the learning curves.\n",
        "##########################################################\n",
        "REWARDS = []\n",
        "RUNS = 5\n",
        "for run in range(RUNS):\n",
        "    print('-'*30)\n",
        "    print(f'RUN: {run}')\n",
        "\n",
        "    # Agent and Buffer Initialization\n",
        "    agent = SACAgent(env)\n",
        "    replay_buffer = ReplayBuffer(env)\n",
        "    run_rewards = []\n",
        "\n",
        "    for eps in tqdm(range(EPISODES_PER_RUN)):\n",
        "        state = env.reset()\n",
        "        episode_reward = 0\n",
        "        evaluation_mode = False\n",
        "        if eps % TRAINING_EVALUATION_RATIO == 0:\n",
        "            evaluation_mode = True\n",
        "        done = False\n",
        "        for step in range(STEPS_PER_EPISODE):\n",
        "            if done:\n",
        "                break\n",
        "            action = agent.get_next_action(state, evaluation_mode)\n",
        "            next_state, reward, done, info = env.step(action)\n",
        "            trans = (state, action, reward, next_state, done)\n",
        "            replay_buffer.add_transition(trans)\n",
        "\n",
        "            if evaluation_mode:\n",
        "                episode_reward += reward\n",
        "            else:\n",
        "                agent.train_on_transition(trans)\n",
        "\n",
        "            state = next_state\n",
        "\n",
        "        if evaluation_mode:\n",
        "            run_rewards.append(episode_reward)\n",
        "\n",
        "    REWARDS.append(run_rewards)\n",
        "\n",
        "env.close()"
      ],
      "metadata": {
        "colab": {
          "base_uri": "https://localhost:8080/"
        },
        "id": "P6rLO69WP2VN",
        "outputId": "a2f6ad40-9ea5-4826-d3a2-737dfbdcdcfd"
      },
      "execution_count": null,
      "outputs": [
        {
          "output_type": "stream",
          "name": "stdout",
          "text": [
            "------------------------------\n",
            "RUN: 0\n"
          ]
        },
        {
          "output_type": "stream",
          "name": "stderr",
          "text": [
            "100%|██████████| 500/500 [03:57<00:00,  2.11it/s]\n"
          ]
        },
        {
          "output_type": "stream",
          "name": "stdout",
          "text": [
            "------------------------------\n",
            "RUN: 1\n"
          ]
        },
        {
          "output_type": "stream",
          "name": "stderr",
          "text": [
            "100%|██████████| 500/500 [00:41<00:00, 11.95it/s]\n"
          ]
        },
        {
          "output_type": "stream",
          "name": "stdout",
          "text": [
            "------------------------------\n",
            "RUN: 2\n"
          ]
        },
        {
          "output_type": "stream",
          "name": "stderr",
          "text": [
            "100%|██████████| 500/500 [03:08<00:00,  2.66it/s]\n"
          ]
        },
        {
          "output_type": "stream",
          "name": "stdout",
          "text": [
            "------------------------------\n",
            "RUN: 3\n"
          ]
        },
        {
          "output_type": "stream",
          "name": "stderr",
          "text": [
            "100%|██████████| 500/500 [03:54<00:00,  2.13it/s]\n"
          ]
        },
        {
          "output_type": "stream",
          "name": "stdout",
          "text": [
            "------------------------------\n",
            "RUN: 4\n"
          ]
        },
        {
          "output_type": "stream",
          "name": "stderr",
          "text": [
            "100%|██████████| 500/500 [01:02<00:00,  7.98it/s]\n"
          ]
        }
      ]
    },
    {
      "cell_type": "code",
      "source": [
        "plot(REWARDS)"
      ],
      "metadata": {
        "colab": {
          "base_uri": "https://localhost:8080/",
          "height": 449
        },
        "id": "77lqBgbGzt9G",
        "outputId": "8e972f59-a560-49e9-bd05-289d39df42b6"
      },
      "execution_count": null,
      "outputs": [
        {
          "output_type": "display_data",
          "data": {
            "text/plain": [
              "<Figure size 640x480 with 1 Axes>"
            ],
            "image/png": "[encoded data removed]"
          },
          "metadata": {}
        }
      ]
    },
    {
      "cell_type": "markdown",
      "metadata": {
        "id": "WxqbDN6DU0AY"
      },
      "source": [
        "## Offline SAC training loop (10 points)"
      ]
    },
    {
      "cell_type": "markdown",
      "metadata": {
        "id": "QRwciG6WU6ES"
      },
      "source": [
        "In this part you are going to train an SAC agent using the replay buffer from the online agent. During training you sample from this replay buffer and train the offline agent **without adding transitions to the replay buffer**. The loss function and every thing else is the same as the online setting."
      ]
    },
    {
      "cell_type": "code",
      "source": [
        "RUNS = 4\n",
        "NUM_EPOCHS = 200\n",
        "EPISODES_PER_RUN = 200\n",
        "\n",
        "env = gym.make(\"CartPole-v1\")\n",
        "\n",
        "##########################################################\n",
        "# TODO (10 points):\n",
        "# Implement the training loop for the online SAC.\n",
        "# 1) You need to initialize an agent with the\n",
        "#    `replay_buffer` set to None. Also, leave the\n",
        "#    `use_cql` and `offline` flags to remain False.\n",
        "# 2) After each epoch, run `EPISODES_PER_RUN` validation\n",
        "#    episodes and plot the mean return over these\n",
        "#    episodes in the end.\n",
        "# 3) Plot the learning curves.\n",
        "##########################################################\n",
        "REWARDS_offline = []\n",
        "for run in range(RUNS):\n",
        "    print('-'*30)\n",
        "    print(f'RUN: {run}')\n",
        "\n",
        "    # Agent Initialization\n",
        "    # Buffer from previous section\n",
        "    agent = SACAgent(env, replay_buffer=replay_buffer, offline = True)\n",
        "    run_rewards = []\n",
        "\n",
        "    for eps in tqdm(range(EPISODES_PER_RUN)):\n",
        "        state = env.reset()\n",
        "        episode_reward = 0\n",
        "        evaluation_mode = False\n",
        "        if eps % TRAINING_EVALUATION_RATIO == 0:\n",
        "            evaluation_mode = True\n",
        "        done = False\n",
        "        for step in range(STEPS_PER_EPISODE):\n",
        "            if done:\n",
        "                break\n",
        "            action = agent.get_next_action(state, evaluation_mode)\n",
        "            next_state, reward, done, info = env.step(action)\n",
        "\n",
        "            if evaluation_mode:\n",
        "                episode_reward += reward\n",
        "            else:\n",
        "                agent.train_networks()\n",
        "\n",
        "            state = next_state\n",
        "\n",
        "        if evaluation_mode:\n",
        "            run_rewards.append(episode_reward)\n",
        "\n",
        "    REWARDS_offline.append(run_rewards)\n",
        "\n",
        "env.close()"
      ],
      "metadata": {
        "colab": {
          "base_uri": "https://localhost:8080/"
        },
        "id": "2OmSxaarcpls",
        "outputId": "ee2e238d-52da-4997-beba-d94dc48a05d2"
      },
      "execution_count": null,
      "outputs": [
        {
          "output_type": "stream",
          "name": "stdout",
          "text": [
            "------------------------------\n",
            "RUN: 0\n"
          ]
        },
        {
          "output_type": "stream",
          "name": "stderr",
          "text": [
            "100%|██████████| 200/200 [00:29<00:00,  6.85it/s]\n"
          ]
        },
        {
          "output_type": "stream",
          "name": "stdout",
          "text": [
            "------------------------------\n",
            "RUN: 1\n"
          ]
        },
        {
          "output_type": "stream",
          "name": "stderr",
          "text": [
            "100%|██████████| 200/200 [00:32<00:00,  6.08it/s]\n"
          ]
        },
        {
          "output_type": "stream",
          "name": "stdout",
          "text": [
            "------------------------------\n",
            "RUN: 2\n"
          ]
        },
        {
          "output_type": "stream",
          "name": "stderr",
          "text": [
            "100%|██████████| 200/200 [00:38<00:00,  5.20it/s]\n"
          ]
        },
        {
          "output_type": "stream",
          "name": "stdout",
          "text": [
            "------------------------------\n",
            "RUN: 3\n"
          ]
        },
        {
          "output_type": "stream",
          "name": "stderr",
          "text": [
            "100%|██████████| 200/200 [00:21<00:00,  9.52it/s]\n"
          ]
        }
      ]
    },
    {
      "cell_type": "code",
      "source": [
        "plot(REWARDS_offline)"
      ],
      "metadata": {
        "colab": {
          "base_uri": "https://localhost:8080/",
          "height": 449
        },
        "id": "oSAbNeT-dzn8",
        "outputId": "b5f805d6-bbe8-41ce-db5d-c5512008be55"
      },
      "execution_count": null,
      "outputs": [
        {
          "output_type": "display_data",
          "data": {
            "text/plain": [
              "<Figure size 640x480 with 1 Axes>"
            ],
            "image/png": "[encoded data removed]"
          },
          "metadata": {}
        }
      ]
    },
    {
      "cell_type": "markdown",
      "metadata": {
        "id": "CJ8HlBr0kkZv"
      },
      "source": [
        "## Conservative SAC training loop (5 points)"
      ]
    },
    {
      "cell_type": "markdown",
      "metadata": {
        "id": "VOIESLFwXs7Q"
      },
      "source": [
        "Similar to the previous part, you are going to train another offline agent. In this part, you are going to use the conservative version of SAC."
      ]
    },
    {
      "cell_type": "code",
      "execution_count": null,
      "metadata": {
        "id": "vP_L7h0bYD4V"
      },
      "outputs": [],
      "source": [
        "RUNS = 1\n",
        "NUM_EPOCHS = 200\n",
        "EPISODES_PER_RUN = 100\n",
        "\n",
        "env = gym.make(\"CartPole-v1\")\n",
        "\n",
        "##########################################################\n",
        "# TODO (5 points):\n",
        "# Implement the training loop for the conservative SAC.\n",
        "# 1) You need to initialize an agent with the current\n",
        "#    `replay_buffer` of the online agent. Set the `offline`\n",
        "#     and `use_cql` flags.\n",
        "# 2) You can use `batch_deterministic_start` in the\n",
        "#    `train_networks` method to select all minibatches\n",
        "#    of the data to train in an offline manner.\n",
        "# 3) After each epoch, run `EPISODES_PER_RUN` validation\n",
        "#    episodes and plot the mean return over these\n",
        "#    episodes in the end.\n",
        "##########################################################"
      ]
    },
    {
      "cell_type": "markdown",
      "metadata": {
        "id": "3q3LIScuYTeX"
      },
      "source": [
        "## Comparisons (14 points)\n",
        "Now, analyze your results and justify the trends you see. Then answer the following questions.\n",
        "\n",
        "❓ What is the reason for the difference between online and offline performance of the agent?\n",
        "\n",
        "\n",
        "❓ Which one is better: offline SAC or conservative SAC?\n",
        "\n",
        "\n",
        "❓ What is the effect of `TRADEOFF_FACTOR` in the offline setting? How does changing its value affect the results?\n"
      ]
    },
    {
      "cell_type": "markdown",
      "source": [
        "**I answered the questions in the pdf file, along with the theory questions**"
      ],
      "metadata": {
        "id": "di2Dsoqdisxv"
      }
    }
  ],
  "metadata": {
    "colab": {
      "provenance": [],
      "toc_visible": true,
      "gpuType": "T4",
      "include_colab_link": true
    },
    "kernelspec": {
      "display_name": "Python 3",
      "name": "python3"
    },
    "language_info": {
      "name": "python"
    },
    "accelerator": "GPU"
  },
  "nbformat": 4,
  "nbformat_minor": 0
}